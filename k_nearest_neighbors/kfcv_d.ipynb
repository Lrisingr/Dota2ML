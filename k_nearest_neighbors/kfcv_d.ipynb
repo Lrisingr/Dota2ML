{
 "cells": [
  {
   "cell_type": "code",
   "execution_count": 16,
   "metadata": {
    "slideshow": {
     "slide_type": "slide"
    }
   },
   "outputs": [],
   "source": [
    "from sklearn.neighbors import KNeighborsClassifier\n",
    "from sklearn.model_selection import KFold,cross_val_score\n",
    "import numpy as np\n",
    "from progressbar import ProgressBar, Bar, Percentage, FormatLabel, ETA\n",
    "from IPython.core.interactiveshell import InteractiveShell\n",
    "InteractiveShell.ast_node_interactivity = \"all\"\n"
   ]
  },
  {
   "cell_type": "code",
   "execution_count": 2,
   "metadata": {},
   "outputs": [],
   "source": [
    "def my_distance(vec1,vec2):\n",
    "    #return np.sum(np.multiply(vec1,vec2))\n",
    "    return np.sum(np.logical_and(vec1,vec2))\n",
    "\n",
    "def poly_param(d):\n",
    "    def poly_weights(distances):\n",
    "        '''Returns a list of weights given a polynomial weighting function'''\n",
    "        weights = np.power(np.multiply(distances[0], 0.1), d)\n",
    "        return np.array([weights])\n",
    "    return poly_weights"
   ]
  },
  {
   "cell_type": "code",
   "execution_count": 17,
   "metadata": {},
   "outputs": [],
   "source": [
    "from IPython.core.debugger import Pdb\n",
    "def score(estimator, X, y):\n",
    "    global pbar, FOLDS_FINISHED\n",
    "    #X = np.array(X).reshape(1,-1)\n",
    "    correct_predictions = 0\n",
    "    for i, radiant_query in enumerate(X):\n",
    "        pbar.update(FOLDS_FINISHED)\n",
    "        radiant_query = radiant_query.reshape(1,-1)\n",
    "        dire_query = np.concatenate((radiant_query[NUM_HEROES:NUM_FEATURES], radiant_query[0:NUM_HEROES])).reshape(1,-1)\n",
    "        print(dire_query)\n",
    "        dire_prob = estimator.predict_proba(dire_query)[0][1]\n",
    "        rad_prob = estimator.predict_proba(radiant_query)[0][0]\n",
    "        overall_prob = (rad_prob + dire_prob) / 2\n",
    "        prediction = 1 if (overall_prob > 0.5) else -1\n",
    "        result = 1 if prediction == y[i] else 0\n",
    "        correct_predictions += result\n",
    "    FOLDS_FINISHED += 1\n",
    "    accuracy = float(correct_predictions) / len(X)\n",
    "    print('Accuracy: %f' % accuracy)\n",
    "    return accuracy"
   ]
  },
  {
   "cell_type": "code",
   "execution_count": null,
   "metadata": {},
   "outputs": [
    {
     "name": "stdout",
     "output_type": "stream",
     "text": [
      "Training using data from 20000 matches...\n",
      "--Call--\n",
      "> /Users/kosh/.conda/envs/dota2/lib/python3.5/site-packages/IPython/core/displayhook.py(247)__call__()\n",
      "-> def __call__(self, result=None):\n",
      "(Pdb) n\n",
      "> /Users/kosh/.conda/envs/dota2/lib/python3.5/site-packages/IPython/core/displayhook.py(253)__call__()\n",
      "-> self.check_for_underscore()\n",
      "(Pdb) n\n",
      "> /Users/kosh/.conda/envs/dota2/lib/python3.5/site-packages/IPython/core/displayhook.py(254)__call__()\n",
      "-> if result is not None and not self.quiet():\n",
      "(Pdb) n\n",
      "--Return--\n",
      "> /Users/kosh/.conda/envs/dota2/lib/python3.5/site-packages/IPython/core/displayhook.py(254)__call__()->None\n",
      "-> if result is not None and not self.quiet():\n",
      "(Pdb) n\n",
      "--Return--\n",
      "> <ipython-input-21-fd37a6830137>(17)<module>()->None\n",
      "-> pdb.set_trace()\n",
      "(Pdb) n\n",
      "> /Users/kosh/.conda/envs/dota2/lib/python3.5/site-packages/IPython/core/interactiveshell.py(2913)run_code()\n",
      "-> sys.excepthook = old_excepthook\n",
      "(Pdb) n\n",
      "> /Users/kosh/.conda/envs/dota2/lib/python3.5/site-packages/IPython/core/interactiveshell.py(2929)run_code()\n",
      "-> outflag = False\n",
      "(Pdb) n\n",
      "> /Users/kosh/.conda/envs/dota2/lib/python3.5/site-packages/IPython/core/interactiveshell.py(2930)run_code()\n",
      "-> return outflag\n",
      "(Pdb) n\n",
      "--Return--\n",
      "> /Users/kosh/.conda/envs/dota2/lib/python3.5/site-packages/IPython/core/interactiveshell.py(2930)run_code()->False\n",
      "-> return outflag\n",
      "(Pdb) n\n",
      "> /Users/kosh/.conda/envs/dota2/lib/python3.5/site-packages/IPython/core/interactiveshell.py(2853)run_ast_nodes()\n",
      "-> for i, node in enumerate(to_run_interactive):\n",
      "(Pdb) n\n",
      "> /Users/kosh/.conda/envs/dota2/lib/python3.5/site-packages/IPython/core/interactiveshell.py(2854)run_ast_nodes()\n",
      "-> mod = ast.Interactive([node])\n",
      "(Pdb) n\n",
      "> /Users/kosh/.conda/envs/dota2/lib/python3.5/site-packages/IPython/core/interactiveshell.py(2855)run_ast_nodes()\n",
      "-> code = compiler(mod, cell_name, \"single\")\n",
      "(Pdb) n\n",
      "> /Users/kosh/.conda/envs/dota2/lib/python3.5/site-packages/IPython/core/interactiveshell.py(2856)run_ast_nodes()\n",
      "-> if self.run_code(code, result):\n",
      "(Pdb) n\n",
      "> /Users/kosh/.conda/envs/dota2/lib/python3.5/site-packages/IPython/core/interactiveshell.py(2853)run_ast_nodes()\n",
      "-> for i, node in enumerate(to_run_interactive):\n",
      "(Pdb) n\n",
      "> /Users/kosh/.conda/envs/dota2/lib/python3.5/site-packages/IPython/core/interactiveshell.py(2854)run_ast_nodes()\n",
      "-> mod = ast.Interactive([node])\n",
      "(Pdb) n\n",
      "> /Users/kosh/.conda/envs/dota2/lib/python3.5/site-packages/IPython/core/interactiveshell.py(2855)run_ast_nodes()\n",
      "-> code = compiler(mod, cell_name, \"single\")\n",
      "(Pdb) n\n",
      "> /Users/kosh/.conda/envs/dota2/lib/python3.5/site-packages/IPython/core/interactiveshell.py(2856)run_ast_nodes()\n",
      "-> if self.run_code(code, result):\n",
      "(Pdb) n\n"
     ]
    },
    {
     "data": {
      "text/plain": [
       "2"
      ]
     },
     "execution_count": 21,
     "metadata": {},
     "output_type": "execute_result"
    },
    {
     "name": "stdout",
     "output_type": "stream",
     "text": [
      "> /Users/kosh/.conda/envs/dota2/lib/python3.5/site-packages/IPython/core/interactiveshell.py(2853)run_ast_nodes()\n",
      "-> for i, node in enumerate(to_run_interactive):\n",
      "(Pdb) n\n",
      "> /Users/kosh/.conda/envs/dota2/lib/python3.5/site-packages/IPython/core/interactiveshell.py(2854)run_ast_nodes()\n",
      "-> mod = ast.Interactive([node])\n",
      "(Pdb) n\n",
      "> /Users/kosh/.conda/envs/dota2/lib/python3.5/site-packages/IPython/core/interactiveshell.py(2855)run_ast_nodes()\n",
      "-> code = compiler(mod, cell_name, \"single\")\n",
      "(Pdb) n\n",
      "> /Users/kosh/.conda/envs/dota2/lib/python3.5/site-packages/IPython/core/interactiveshell.py(2856)run_ast_nodes()\n",
      "-> if self.run_code(code, result):\n",
      "(Pdb) n\n",
      "KFold(n_splits=2, random_state=42, shuffle=True)\n",
      "> /Users/kosh/.conda/envs/dota2/lib/python3.5/site-packages/IPython/core/interactiveshell.py(2853)run_ast_nodes()\n",
      "-> for i, node in enumerate(to_run_interactive):\n",
      "(Pdb) n\n",
      "> /Users/kosh/.conda/envs/dota2/lib/python3.5/site-packages/IPython/core/interactiveshell.py(2854)run_ast_nodes()\n",
      "-> mod = ast.Interactive([node])\n",
      "(Pdb) n\n",
      "> /Users/kosh/.conda/envs/dota2/lib/python3.5/site-packages/IPython/core/interactiveshell.py(2855)run_ast_nodes()\n",
      "-> code = compiler(mod, cell_name, \"single\")\n",
      "(Pdb) n\n",
      "> /Users/kosh/.conda/envs/dota2/lib/python3.5/site-packages/IPython/core/interactiveshell.py(2856)run_ast_nodes()\n",
      "-> if self.run_code(code, result):\n",
      "(Pdb) n\n",
      "<generator object _BaseKFold.split at 0x114190fc0>\n",
      "> /Users/kosh/.conda/envs/dota2/lib/python3.5/site-packages/IPython/core/interactiveshell.py(2853)run_ast_nodes()\n",
      "-> for i, node in enumerate(to_run_interactive):\n",
      "(Pdb) n\n",
      "> /Users/kosh/.conda/envs/dota2/lib/python3.5/site-packages/IPython/core/interactiveshell.py(2854)run_ast_nodes()\n",
      "-> mod = ast.Interactive([node])\n",
      "(Pdb) n\n",
      "> /Users/kosh/.conda/envs/dota2/lib/python3.5/site-packages/IPython/core/interactiveshell.py(2855)run_ast_nodes()\n",
      "-> code = compiler(mod, cell_name, \"single\")\n",
      "(Pdb) n\n",
      "> /Users/kosh/.conda/envs/dota2/lib/python3.5/site-packages/IPython/core/interactiveshell.py(2856)run_ast_nodes()\n",
      "-> if self.run_code(code, result):\n",
      "(Pdb) n\n",
      "> /Users/kosh/.conda/envs/dota2/lib/python3.5/site-packages/IPython/core/interactiveshell.py(2853)run_ast_nodes()\n",
      "-> for i, node in enumerate(to_run_interactive):\n",
      "(Pdb) n\n",
      "> /Users/kosh/.conda/envs/dota2/lib/python3.5/site-packages/IPython/core/interactiveshell.py(2854)run_ast_nodes()\n",
      "-> mod = ast.Interactive([node])\n",
      "(Pdb) n\n",
      "> /Users/kosh/.conda/envs/dota2/lib/python3.5/site-packages/IPython/core/interactiveshell.py(2855)run_ast_nodes()\n",
      "-> code = compiler(mod, cell_name, \"single\")\n",
      "(Pdb) n\n",
      "> /Users/kosh/.conda/envs/dota2/lib/python3.5/site-packages/IPython/core/interactiveshell.py(2856)run_ast_nodes()\n",
      "-> if self.run_code(code, result):\n",
      "(Pdb) n\n",
      "> /Users/kosh/.conda/envs/dota2/lib/python3.5/site-packages/IPython/core/interactiveshell.py(2853)run_ast_nodes()\n",
      "-> for i, node in enumerate(to_run_interactive):\n",
      "(Pdb) n\n",
      "> /Users/kosh/.conda/envs/dota2/lib/python3.5/site-packages/IPython/core/interactiveshell.py(2854)run_ast_nodes()\n",
      "-> mod = ast.Interactive([node])\n",
      "(Pdb) n\n",
      "> /Users/kosh/.conda/envs/dota2/lib/python3.5/site-packages/IPython/core/interactiveshell.py(2855)run_ast_nodes()\n",
      "-> code = compiler(mod, cell_name, \"single\")\n",
      "(Pdb) n\n",
      "> /Users/kosh/.conda/envs/dota2/lib/python3.5/site-packages/IPython/core/interactiveshell.py(2856)run_ast_nodes()\n",
      "-> if self.run_code(code, result):\n",
      "(Pdb) n\n"
     ]
    },
    {
     "data": {
      "text/plain": [
       "2"
      ]
     },
     "execution_count": 21,
     "metadata": {},
     "output_type": "execute_result"
    },
    {
     "name": "stdout",
     "output_type": "stream",
     "text": [
      "> /Users/kosh/.conda/envs/dota2/lib/python3.5/site-packages/IPython/core/interactiveshell.py(2853)run_ast_nodes()\n",
      "-> for i, node in enumerate(to_run_interactive):\n",
      "(Pdb) n\n",
      "> /Users/kosh/.conda/envs/dota2/lib/python3.5/site-packages/IPython/core/interactiveshell.py(2854)run_ast_nodes()\n",
      "-> mod = ast.Interactive([node])\n",
      "(Pdb) n\n",
      "> /Users/kosh/.conda/envs/dota2/lib/python3.5/site-packages/IPython/core/interactiveshell.py(2855)run_ast_nodes()\n",
      "-> code = compiler(mod, cell_name, \"single\")\n",
      "(Pdb) r\n"
     ]
    },
    {
     "name": "stderr",
     "output_type": "stream",
     "text": [
      "\r",
      "                                                                               \r",
      "\r",
      "Processed: 0/6 folds. ETA:  --:--:--N/A% |                                    |"
     ]
    },
    {
     "name": "stdout",
     "output_type": "stream",
     "text": [
      "KFold(n_splits=2, random_state=None, shuffle=False)\n"
     ]
    },
    {
     "ename": "TypeError",
     "evalue": "'int' object is not iterable",
     "traceback": [
      "\u001b[0;31m---------------------------------------------------------------------------\u001b[0m",
      "\u001b[0;31mTypeError\u001b[0m                                 Traceback (most recent call last)",
      "\u001b[0;32m<ipython-input-21-fd37a6830137>\u001b[0m in \u001b[0;36m<module>\u001b[0;34m()\u001b[0m\n\u001b[1;32m     31\u001b[0m \u001b[0md_accuracy_pairs\u001b[0m \u001b[0;34m=\u001b[0m \u001b[0;34m[\u001b[0m\u001b[0;34m]\u001b[0m\u001b[0;34m\u001b[0m\u001b[0m\n\u001b[1;32m     32\u001b[0m \u001b[0;34m\u001b[0m\u001b[0m\n\u001b[0;32m---> 33\u001b[0;31m \u001b[0;32mfor\u001b[0m \u001b[0md_index\u001b[0m\u001b[0;34m,\u001b[0m \u001b[0md\u001b[0m \u001b[0;32min\u001b[0m \u001b[0md_tries\u001b[0m\u001b[0;34m:\u001b[0m\u001b[0;34m\u001b[0m\u001b[0m\n\u001b[0m\u001b[1;32m     34\u001b[0m     \u001b[0mmodel\u001b[0m \u001b[0;34m=\u001b[0m \u001b[0mKNeighborsClassifier\u001b[0m\u001b[0;34m(\u001b[0m\u001b[0mn_neighbors\u001b[0m\u001b[0;34m=\u001b[0m\u001b[0mNUM_MATCHES\u001b[0m\u001b[0;34m/\u001b[0m\u001b[0mK\u001b[0m\u001b[0;34m,\u001b[0m\u001b[0mmetric\u001b[0m\u001b[0;34m=\u001b[0m\u001b[0mmy_distance\u001b[0m\u001b[0;34m,\u001b[0m\u001b[0mweights\u001b[0m\u001b[0;34m=\u001b[0m\u001b[0mpoly_param\u001b[0m\u001b[0;34m(\u001b[0m\u001b[0md\u001b[0m\u001b[0;34m)\u001b[0m\u001b[0;34m)\u001b[0m\u001b[0;34m\u001b[0m\u001b[0m\n\u001b[1;32m     35\u001b[0m     \u001b[0mscoree\u001b[0m \u001b[0;34m=\u001b[0m \u001b[0mscore\u001b[0m\u001b[0;34m(\u001b[0m\u001b[0mmodel\u001b[0m\u001b[0;34m,\u001b[0m \u001b[0mX\u001b[0m\u001b[0;34m,\u001b[0m \u001b[0mY\u001b[0m\u001b[0;34m)\u001b[0m\u001b[0;34m\u001b[0m\u001b[0m\n",
      "\u001b[0;31mTypeError\u001b[0m: 'int' object is not iterable"
     ],
     "output_type": "error"
    },
    {
     "name": "stdout",
     "output_type": "stream",
     "text": [
      "--Return--\n",
      "> /Users/kosh/.conda/envs/dota2/lib/python3.5/site-packages/IPython/core/interactiveshell.py(2857)run_ast_nodes()->True\n",
      "-> return True\n",
      "(Pdb) q\n"
     ]
    }
   ],
   "source": [
    "import pdb\n",
    "NUM_HEROES = 108\n",
    "NUM_FEATURES = NUM_HEROES*2\n",
    "K = 2\n",
    "FOLDS_FINISHED = 0\n",
    "\n",
    "# Import the preprocessed X matrix and Y vector\n",
    "preprocessed = np.load('../logistic_regression/train_147615.npz')\n",
    "X = preprocessed['X']\n",
    "Y = preprocessed['Y']\n",
    "\n",
    "NUM_MATCHES = 20000\n",
    "X = X[0:NUM_MATCHES]\n",
    "Y = Y[0:NUM_MATCHES]\n",
    "\n",
    "print('Training using data from %d matches...' % NUM_MATCHES)\n",
    "pdb.set_trace()\n",
    "k_fold = KFold(n_splits=K,random_state=42,shuffle=True)\n",
    "k_fold.get_n_splits(X)\n",
    "print(k_fold)\n",
    "print(k_fold.split(X))\n",
    "d_tries = [3, 4, 5]\n",
    "\n",
    "kf = KFold(n_splits=K) # Define the split - into 2 folds \n",
    "kf.get_n_splits(X) # returns the number of splitting iterations in the cross-validator\n",
    "print(kf) \n",
    "\n",
    "widgets = [FormatLabel('Processed: %(value)d/%(max)d folds. '), ETA(), Percentage(), ' ', Bar()]\n",
    "pbar = ProgressBar(widgets=widgets, maxval=(len(d_tries) * K)).start()\n",
    "\n",
    "d_accuracy_pairs = []\n",
    "\n",
    "for d_index, d in d_tries:\n",
    "    model = KNeighborsClassifier(n_neighbors=NUM_MATCHES/K,metric=my_distance,weights=poly_param(d))  \n",
    "    scoree = score(model, X, Y)\n",
    "    model_accuracies = model_selection.cross_val_score(model, X, Y, scoring=scoree, cv=k_fold)\n",
    "    model_accuracy = model_accuracies.mean()\n",
    "    d_accuracy_pairs.append((d, model_accuracy))\n",
    "\n",
    "pbar.finish()\n",
    "print(d_accuracy_pairs)"
   ]
  },
  {
   "cell_type": "code",
   "execution_count": 29,
   "metadata": {},
   "outputs": [
    {
     "data": {
      "text/plain": [
       "KNeighborsClassifier(algorithm='auto', leaf_size=30, metric='minkowski',\n",
       "           metric_params=None, n_jobs=1, n_neighbors=5, p=2,\n",
       "           weights='uniform')"
      ]
     },
     "execution_count": 29,
     "metadata": {},
     "output_type": "execute_result"
    }
   ],
   "source": [
    "from sklearn.datasets import make_classification\n",
    "from sklearn.linear_model import LogisticRegression\n",
    "from sklearn.model_selection import train_test_split\n",
    "\n",
    "# Binary Classification\n",
    "X, y = make_classification(n_samples=1000, n_features=4, n_classes=2)\n",
    "\n",
    "X_train, X_test, y_train, y_test = train_test_split(X, y, test_size=0.25, random_state=1)\n",
    "\n",
    "from sklearn.neighbors import KNeighborsClassifier\n",
    "\n",
    "model = KNeighborsClassifier()\n",
    "model.fit(X_train, y_train)\n",
    "\n",
    "y_predict = model.predict(X_test)"
   ]
  },
  {
   "cell_type": "code",
   "execution_count": 30,
   "metadata": {},
   "outputs": [
    {
     "data": {
      "text/plain": [
       "array([[-2.92715316,  2.43087258, -2.03125847,  1.9369727 ],\n",
       "       [-0.13612958, -0.86859021, -0.0934115 ,  1.24207275],\n",
       "       [ 0.10387754, -0.50974476,  0.07253902,  0.42823052],\n",
       "       ..., \n",
       "       [ 0.36574272,  0.51742904,  0.25292072, -1.20568713],\n",
       "       [ 0.40571871,  0.76431092,  0.28036085, -1.56082519],\n",
       "       [-0.99561087,  1.30093709, -0.69139971,  0.1024164 ]])"
      ]
     },
     "execution_count": 30,
     "metadata": {},
     "output_type": "execute_result"
    },
    {
     "data": {
      "text/plain": [
       "(1000, 4)"
      ]
     },
     "execution_count": 30,
     "metadata": {},
     "output_type": "execute_result"
    },
    {
     "data": {
      "text/plain": [
       "(1000,)"
      ]
     },
     "execution_count": 30,
     "metadata": {},
     "output_type": "execute_result"
    }
   ],
   "source": [
    "X\n",
    "X.shape\n",
    "y.shape"
   ]
  },
  {
   "cell_type": "code",
   "execution_count": 31,
   "metadata": {},
   "outputs": [
    {
     "data": {
      "text/plain": [
       "array([[129,   4],\n",
       "       [  7, 110]])"
      ]
     },
     "execution_count": 31,
     "metadata": {},
     "output_type": "execute_result"
    }
   ],
   "source": [
    "from sklearn.metrics import confusion_matrix\n",
    "\n",
    "confusion_matrix(y_test, y_predict)\n",
    "\"\"\"\"\"\""
   ]
  },
  {
   "cell_type": "markdown",
   "metadata": {},
   "source": [
    "Because the confusion matrix is such A Ci,j\n",
    " is the number of predictions known to be in group i\n",
    " but predicted to be in group j\n",
    ", we have:\n",
    "C0,0=123\n",
    "C\n",
    "0\n",
    ",\n",
    "0\n",
    "=\n",
    "123\n",
    " – True Negatives, response 0, predicted 0\n",
    "C1,0=10\n",
    "C\n",
    "1\n",
    ",\n",
    "0\n",
    "=\n",
    "10\n",
    " – False Negatives, response 1, predicted 0\n",
    "C0,1=5\n",
    "C\n",
    "0\n",
    ",\n",
    "1\n",
    "=\n",
    "5\n",
    " – False Positives, response 0, predicted 1\n",
    "C1,1=112\n",
    "C\n",
    "1\n",
    ",\n",
    "1\n",
    "=\n",
    "112\n",
    " – True Positives, response 1, predicted 1\n"
   ]
  },
  {
   "cell_type": "code",
   "execution_count": null,
   "metadata": {},
   "outputs": [],
   "source": []
  }
 ],
 "metadata": {
  "kernelspec": {
   "display_name": "Python [conda env:dota2]",
   "language": "python",
   "name": "conda-env-dota2-py"
  },
  "language_info": {
   "codemirror_mode": {
    "name": "ipython",
    "version": 3
   },
   "file_extension": ".py",
   "mimetype": "text/x-python",
   "name": "python",
   "nbconvert_exporter": "python",
   "pygments_lexer": "ipython3",
   "version": "3.5.4"
  }
 },
 "nbformat": 4,
 "nbformat_minor": 2
}
